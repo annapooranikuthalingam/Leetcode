{
 "cells": [
  {
   "cell_type": "markdown",
   "id": "055877d2",
   "metadata": {},
   "source": [
    "#### MySQL Ranking Functions"
   ]
  },
  {
   "cell_type": "markdown",
   "id": "a957c7c3",
   "metadata": {},
   "source": [
    "https://www.geeksforgeeks.org/mysql-ranking-functions/\n"
   ]
  },
  {
   "cell_type": "markdown",
   "id": "61b02659",
   "metadata": {},
   "source": [
    "#### Second highest Salary"
   ]
  },
  {
   "cell_type": "markdown",
   "id": "269c0ef4",
   "metadata": {},
   "source": [
    "https://www.java67.com/2015/01/second-highest-salary-in-mysql-and-sql-server.html"
   ]
  },
  {
   "cell_type": "code",
   "execution_count": null,
   "id": "676414ad",
   "metadata": {},
   "outputs": [],
   "source": []
  }
 ],
 "metadata": {
  "kernelspec": {
   "display_name": "Python 3",
   "language": "python",
   "name": "python3"
  },
  "language_info": {
   "codemirror_mode": {
    "name": "ipython",
    "version": 3
   },
   "file_extension": ".py",
   "mimetype": "text/x-python",
   "name": "python",
   "nbconvert_exporter": "python",
   "pygments_lexer": "ipython3",
   "version": "3.6.9"
  }
 },
 "nbformat": 4,
 "nbformat_minor": 5
}
